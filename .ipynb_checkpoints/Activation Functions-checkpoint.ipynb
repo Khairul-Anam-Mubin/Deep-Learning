{
 "cells": [
  {
   "cell_type": "code",
   "execution_count": 1,
   "id": "db5cf95e",
   "metadata": {},
   "outputs": [],
   "source": [
    "import math"
   ]
  },
  {
   "cell_type": "code",
   "execution_count": 10,
   "id": "9e6bc145",
   "metadata": {},
   "outputs": [],
   "source": [
    "# sigmoid(y) = 1 / (1 + e^(-y))\n",
    "#returns the value in range 0 to 1\n",
    "\n",
    "def Sigmoid(y):\n",
    "    return 1 / (1 + math.exp(-y))"
   ]
  },
  {
   "cell_type": "code",
   "execution_count": 11,
   "id": "32e294d3",
   "metadata": {},
   "outputs": [],
   "source": [
    "#tanh(y) = (e^y - e^(-y)) / (e^y + e^(-y))\n",
    "#returns the value in range -1 to 1\n",
    "\n",
    "def Tanh(y):\n",
    "    return (math.exp(y) - math.exp(-y)) / (math.exp(y) + math.exp(-y)) "
   ]
  },
  {
   "cell_type": "code",
   "execution_count": 12,
   "id": "6295940b",
   "metadata": {},
   "outputs": [],
   "source": [
    "#relu(y) = max(0 , y)\n",
    "\n",
    "def Relu(y):\n",
    "    return max(0 , y)"
   ]
  },
  {
   "cell_type": "code",
   "execution_count": 13,
   "id": "891a2967",
   "metadata": {},
   "outputs": [],
   "source": [
    "#leaky relu(y) = max(y * 0.1 , y)\n",
    "def Leaky_Relu(y):\n",
    "    return max(y * 0.1 , y)"
   ]
  }
 ],
 "metadata": {
  "kernelspec": {
   "display_name": "Python 3",
   "language": "python",
   "name": "python3"
  },
  "language_info": {
   "codemirror_mode": {
    "name": "ipython",
    "version": 3
   },
   "file_extension": ".py",
   "mimetype": "text/x-python",
   "name": "python",
   "nbconvert_exporter": "python",
   "pygments_lexer": "ipython3",
   "version": "3.8.8"
  }
 },
 "nbformat": 4,
 "nbformat_minor": 5
}
