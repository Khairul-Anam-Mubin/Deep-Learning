{
 "cells": [
  {
   "cell_type": "code",
   "execution_count": 101,
   "id": "f9f39e96",
   "metadata": {},
   "outputs": [],
   "source": [
    "import numpy as np\n",
    "import math"
   ]
  },
  {
   "cell_type": "code",
   "execution_count": 102,
   "id": "c0986118",
   "metadata": {},
   "outputs": [],
   "source": [
    "# take y_main and y_pradicted as argument and return mae\n",
    "# works with both list and numpy\n",
    "def Mean_Absolute_Error(y_main, y_predicted):\n",
    "    total_error = 0\n",
    "    for i in range(len(y_main)):\n",
    "        total_error += abs(y_main[i] - y_predicted[i])\n",
    "    mae = total_error / len(y_main)\n",
    "    return mae"
   ]
  },
  {
   "cell_type": "code",
   "execution_count": 103,
   "id": "f2d9c92f",
   "metadata": {},
   "outputs": [],
   "source": [
    "def Mean_Squared_Error(y_main, y_predicted):\n",
    "    total_error = 0\n",
    "    for i in range(len(y_main)):\n",
    "        dif = y_main[i] - y_predicted[i]\n",
    "        total_error += dif ** 2\n",
    "    mse = total_error / len(y_main)\n",
    "    return mse"
   ]
  },
  {
   "cell_type": "code",
   "execution_count": 104,
   "id": "fd337832",
   "metadata": {},
   "outputs": [],
   "source": [
    "#Binary Cross Entropy or log loss\n",
    "def Log(x):\n",
    "    epsilon = 1e-15\n",
    "    if x == 0:\n",
    "        return math.log(epsilon)\n",
    "    return math.log(x)\n",
    "def Binary_Cross_Entropy(y_main , y_predicted):\n",
    "    total_error = 0\n",
    "    for i in range(len(y_main)):\n",
    "        total_error += (y_main[i] * Log(y_predicted[i])) + ((1 - y_main[i]) * Log(1 - y_predicted[i]))\n",
    "    bce = -(total_error / len(y_main))\n",
    "    return bce"
   ]
  }
 ],
 "metadata": {
  "kernelspec": {
   "display_name": "Python 3",
   "language": "python",
   "name": "python3"
  },
  "language_info": {
   "codemirror_mode": {
    "name": "ipython",
    "version": 3
   },
   "file_extension": ".py",
   "mimetype": "text/x-python",
   "name": "python",
   "nbconvert_exporter": "python",
   "pygments_lexer": "ipython3",
   "version": "3.8.8"
  }
 },
 "nbformat": 4,
 "nbformat_minor": 5
}
